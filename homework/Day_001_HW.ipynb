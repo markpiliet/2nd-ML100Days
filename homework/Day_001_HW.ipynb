請上 Kaggle, 在 Competitions 或 Dataset 中找一組競賽或資料並寫下：

